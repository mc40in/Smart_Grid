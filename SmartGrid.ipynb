{
  "nbformat": 4,
  "nbformat_minor": 0,
  "metadata": {
    "colab": {
      "provenance": [],
      "authorship_tag": "ABX9TyNMeV23KdzbQJ3LNs/81Xm0",
      "include_colab_link": true
    },
    "kernelspec": {
      "name": "python3",
      "display_name": "Python 3"
    },
    "language_info": {
      "name": "python"
    }
  },
  "cells": [
    {
      "cell_type": "markdown",
      "metadata": {
        "id": "view-in-github",
        "colab_type": "text"
      },
      "source": [
        "<a href=\"https://colab.research.google.com/github/mc40in/Smart_Grid/blob/main/SmartGrid.ipynb\" target=\"_parent\"><img src=\"https://colab.research.google.com/assets/colab-badge.svg\" alt=\"Open In Colab\"/></a>"
      ]
    },
    {
      "cell_type": "markdown",
      "source": [
        "# **Розрахунок балансу електричної енергії при комбінованому живленні.**"
      ],
      "metadata": {
        "id": "nuNtjIXLJl5w"
      }
    },
    {
      "cell_type": "code",
      "source": [
        "# Блок 1: Введення даних\n",
        "import matplotlib.pyplot as plt\n",
        "import numpy as np\n",
        "\n",
        "def get_user_input():\n",
        "    print(\"Enter the parameters for energy analysis:\")\n",
        "\n",
        "    # Споживання енергії за графіком навантаження по добі\n",
        "    print(\"Enter energy consumption (kWh) for each 3-hour interval:\")\n",
        "    consumption_intervals = []\n",
        "    for i in range(8):\n",
        "        consumption_intervals.append(float(input(f\"Interval {i + 1} (hours {i * 3}-{(i + 1) * 3}): \")))\n",
        "\n",
        "    # Введення потужності сонячної установки\n",
        "    solar_capacity = float(input(\"Enter the solar panel capacity (kW): \"))\n",
        "\n",
        "    # Вибір пори року для генерації енергії\n",
        "    print(\"Select the season for solar generation:\")\n",
        "    print(\"1 - Winter\")\n",
        "    print(\"2 - Spring\")\n",
        "    print(\"3 - Summer\")\n",
        "    print(\"4 - Autumn\")\n",
        "    season = int(input(\"Enter the number corresponding to the season: \"))\n",
        "\n",
        "    # Генерація енергії за умовною залежністю від пори року та потужності установки\n",
        "    if season == 1:  # Winter\n",
        "        production_intervals = [solar_capacity * f for f in [0, 0, 0, 0.2, 0.6, 0.4, 0.2, 0]]\n",
        "    elif season == 2:  # Spring\n",
        "        production_intervals = [solar_capacity * f for f in [0, 0, 0.3, 0.7, 1.0, 0.9, 0.5, 0.2]]\n",
        "    elif season == 3:  # Summer\n",
        "        production_intervals = [solar_capacity * f for f in [0, 0, 0.5, 1.0, 1.2, 1.0, 0.6, 0.3]]\n",
        "    elif season == 4:  # Autumn\n",
        "        production_intervals = [solar_capacity * f for f in [0, 0, 0.3, 0.6, 0.8, 0.7, 0.4, 0.2]]\n",
        "    else:\n",
        "        print(\"Invalid season selected. Defaulting to Winter.\")\n",
        "        production_intervals = [solar_capacity * f for f in [0, 0, 0, 0.2, 0.6, 0.4, 0.2, 0]]\n",
        "\n",
        "    return {\n",
        "        'consumption_intervals': consumption_intervals,\n",
        "        'production_intervals': production_intervals,\n",
        "        'solar_capacity': solar_capacity\n",
        "    }\n",
        "\n",
        "variant = get_user_input()\n"
      ],
      "metadata": {
        "colab": {
          "base_uri": "https://localhost:8080/"
        },
        "id": "55Hq6Wz5phMr",
        "outputId": "793999b4-e099-416f-ac3b-f03c59d8dbfd"
      },
      "execution_count": 17,
      "outputs": [
        {
          "name": "stdout",
          "output_type": "stream",
          "text": [
            "Enter the parameters for energy analysis:\n",
            "Enter energy consumption (kWh) for each 3-hour interval:\n",
            "Interval 1 (hours 0-3): 3\n",
            "Interval 2 (hours 3-6): 4\n",
            "Interval 3 (hours 6-9): 2\n",
            "Interval 4 (hours 9-12): 4\n",
            "Interval 5 (hours 12-15): 5\n",
            "Interval 6 (hours 15-18): 1\n",
            "Interval 7 (hours 18-21): 2\n",
            "Interval 8 (hours 21-24): 3\n",
            "Enter the solar panel capacity (kW): 12\n",
            "Select the season for solar generation:\n",
            "1 - Winter\n",
            "2 - Spring\n",
            "3 - Summer\n",
            "4 - Autumn\n",
            "Enter the number corresponding to the season: 3\n"
          ]
        }
      ]
    },
    {
      "cell_type": "code",
      "source": [
        "# Блок 2: Розрахунки та побудова графіків\n",
        "def analyze_energy_flow(variant):\n",
        "    # Дані варіанта\n",
        "    consumption_intervals = variant['consumption_intervals']  # Споживання енергії\n",
        "    production_intervals = variant['production_intervals']  # Виробництво енергії\n",
        "\n",
        "    # Розрахунки\n",
        "    total_consumption = sum(consumption_intervals)\n",
        "    total_production = sum(production_intervals)\n",
        "    balance = total_production - total_consumption  # Баланс енергії\n",
        "\n",
        "    # Побудова стовпчастої діаграми\n",
        "    time_labels = [f'{i * 3}-{(i + 1) * 3} год.' for i in range(8)]\n",
        "    x = np.arange(len(time_labels))  # Позиції для стовпців\n",
        "\n",
        "    plt.figure(figsize=(10, 5))\n",
        "    plt.bar(x - 0.2, consumption_intervals, width=0.4, label='Споживання (кВт)', color='red')\n",
        "    plt.bar(x + 0.2, production_intervals, width=0.4, label='Генерація (кВт)', color='green')\n",
        "    plt.title('Добова діаграма навантаження')\n",
        "    plt.xlabel('Інтервали споживання (години)')\n",
        "    plt.ylabel('Величина енергії (кВт)')\n",
        "    plt.xticks(x, time_labels)\n",
        "    plt.legend()\n",
        "    plt.grid(axis='y', linestyle='--', alpha=0.7)\n",
        "    plt.show()\n",
        "\n",
        "    # Результати аналізу\n",
        "    return {\n",
        "        'Total Consumption (kWh)': total_consumption,\n",
        "        'Total Production (kWh)': total_production,\n",
        "        'Energy Balance (kWh)': balance\n",
        "    }\n",
        "\n",
        "if variant:\n",
        "    result = analyze_energy_flow(variant)\n",
        "    print(\"\\nAnalysis Results:\")\n",
        "    for key, value in result.items():\n",
        "        print(f\"{key}: {value}\")\n"
      ],
      "metadata": {
        "colab": {
          "base_uri": "https://localhost:8080/",
          "height": 576
        },
        "id": "KtyTyDwfn3uS",
        "outputId": "0e73936f-f67d-4a11-e089-a223764b0b13"
      },
      "execution_count": 26,
      "outputs": [
        {
          "output_type": "display_data",
          "data": {
            "text/plain": [
              "<Figure size 1000x500 with 1 Axes>"
            ],
            "image/png": "[encoded data removed]"
          },
          "metadata": {}
        },
        {
          "output_type": "stream",
          "name": "stdout",
          "text": [
            "\n",
            "Analysis Results:\n",
            "Total Consumption (kWh): 24.0\n",
            "Total Production (kWh): 55.199999999999996\n",
            "Energy Balance (kWh): 31.199999999999996\n"
          ]
        }
      ]
    },
    {
      "cell_type": "code",
      "source": [
        "# Блок 3: Економічний аналіз\n",
        "def economic_analysis(variant, result):\n",
        "    total_consumption = result['Total Consumption (kWh)']\n",
        "    total_production = result['Total Production (kWh)']\n",
        "\n",
        "    # Введення вартості енергії\n",
        "    grid_price = float(input(\"Enter the price of energy from the grid (UAH/kWh): \"))\n",
        "    solar_price = float(input(\"Enter the price of solar energy (UAH/kWh): \"))\n",
        "\n",
        "    # Розрахунок витрат\n",
        "    grid_energy = max(total_consumption - total_production, 0)  # Енергія з мережі\n",
        "    solar_energy = min(total_production, total_consumption)  # Використана сонячна енергія\n",
        "\n",
        "    grid_cost = grid_energy * grid_price\n",
        "    solar_cost = solar_energy * solar_price\n",
        "    total_cost = grid_cost + solar_cost\n",
        "\n",
        "    # Економічна ефективність\n",
        "    cost_with_grid_only = total_consumption * grid_price\n",
        "    savings = cost_with_grid_only - total_cost\n",
        "\n",
        "    print(\"\\nEconomic Analysis Results:\")\n",
        "    print(f\"Grid Energy (kWh): {grid_energy:.2f}\")\n",
        "    print(f\"Solar Energy (kWh): {solar_energy:.2f}\")\n",
        "    print(f\"Grid Cost (UAH): {grid_cost:.2f}\")\n",
        "    print(f\"Solar Cost (UAH): {solar_cost:.2f}\")\n",
        "    print(f\"Total Cost (UAH): {total_cost:.2f}\")\n",
        "    print(f\"Cost with Grid Only (UAH): {cost_with_grid_only:.2f}\")\n",
        "    print(f\"Savings (UAH): {savings:.2f}\")\n",
        "\n",
        "if variant and result:\n",
        "    economic_analysis(variant, result)"
      ],
      "metadata": {
        "colab": {
          "base_uri": "https://localhost:8080/"
        },
        "id": "1yFad1XBTtMD",
        "outputId": "ca342907-50e5-4b26-d03e-6d35df113533"
      },
      "execution_count": 19,
      "outputs": [
        {
          "output_type": "stream",
          "name": "stdout",
          "text": [
            "Enter the price of energy from the grid (UAH/kWh): 4\n",
            "Enter the price of solar energy (UAH/kWh): 6\n",
            "\n",
            "Economic Analysis Results:\n",
            "Grid Energy (kWh): 0.00\n",
            "Solar Energy (kWh): 24.00\n",
            "Grid Cost (UAH): 0.00\n",
            "Solar Cost (UAH): 144.00\n",
            "Total Cost (UAH): 144.00\n",
            "Cost with Grid Only (UAH): 96.00\n",
            "Savings (UAH): -48.00\n"
          ]
        }
      ]
    },
    {
      "cell_type": "code",
      "source": [
        "# Блок 4: Аналіз дефіциту або профіциту енергії\n",
        "\n",
        "# Загальне споживання та генерація за добу\n",
        "total_consumption = result['Total Consumption (kWh)']\n",
        "total_production = result['Total Production (kWh)']\n",
        "\n",
        "#total_consumption = sum(load_profile)  # кВт·год\n",
        "#total_generation = sum(solar_generation)  # кВт·год\n",
        "\n",
        "# Розрахунок енергетичного балансу\n",
        "energy_balance = total_production - total_consumption\n",
        "\n",
        "# Визначення рекомендацій\n",
        "if energy_balance < 0:\n",
        "    # Якщо є дефіцит\n",
        "    deficit = abs(energy_balance)\n",
        "    additional_panels = deficit / (sum(season_coefficients[season]) / len(season_coefficients[season]))\n",
        "    print(\"\\nРезультати блоку 4:\")\n",
        "    print(f\"Загальне споживання: {total_consumption:.2f} кВт·год\")\n",
        "    print(f\"Загальна генерація: {total_generation:.2f} кВт·год\")\n",
        "    print(f\"Дефіцит енергії: {deficit:.2f} кВт·год\")\n",
        "    print(f\"Рекомендація: Збільшити кількість сонячних панелей на потужність: {additional_panels:.2f} кВт\")\n",
        "elif energy_balance > 0:\n",
        "    # Якщо є профіцит\n",
        "    surplus = energy_balance\n",
        "    recommended_battery_capacity = surplus\n",
        "    print(\"\\nРезультати блоку 4:\")\n",
        "    print(f\"Загальне споживання: {total_consumption:.2f} кВт·год\")\n",
        "    print(f\"Загальна генерація: {total_production:.2f} кВт·год\")\n",
        "    print(f\"Профіцит енергії: {surplus:.2f} кВт·год\")\n",
        "    print(f\"Рекомендація: Встановити акумулятор на ємність: {recommended_battery_capacity:.2f} кВт·год\")\n",
        "else:\n",
        "    # Якщо баланс нульовий\n",
        "    print(\"\\nРезультати блоку 4:\")\n",
        "    print(f\"Загальне споживання: {total_consumption:.2f} кВт·год\")\n",
        "    print(f\"Загальна генерація: {total_production:.2f} кВт·год\")\n",
        "    print(\"Система збалансована, додаткових дій не потрібно.\")\n"
      ],
      "metadata": {
        "colab": {
          "base_uri": "https://localhost:8080/"
        },
        "id": "2JlSc2MAG6Or",
        "outputId": "d4d49465-9fa8-4d99-d876-aedb54c7a7d9"
      },
      "execution_count": 23,
      "outputs": [
        {
          "output_type": "stream",
          "name": "stdout",
          "text": [
            "\n",
            "Результати блоку 4:\n",
            "Загальне споживання: 24.00 кВт·год\n",
            "Загальна генерація: 55.20 кВт·год\n",
            "Профіцит енергії: 31.20 кВт·год\n",
            "Рекомендація: Встановити акумулятор на ємність: 31.20 кВт·год\n"
          ]
        }
      ]
    }
  ]
}