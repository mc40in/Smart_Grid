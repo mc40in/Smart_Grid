{
  "nbformat": 4,
  "nbformat_minor": 0,
  "metadata": {
    "colab": {
      "provenance": [],
      "authorship_tag": "ABX9TyOldohYUPE9v2wFJJ2FGNXv",
      "include_colab_link": true
    },
    "kernelspec": {
      "name": "python3",
      "display_name": "Python 3"
    },
    "language_info": {
      "name": "python"
    }
  },
  "cells": [
    {
      "cell_type": "markdown",
      "metadata": {
        "id": "view-in-github",
        "colab_type": "text"
      },
      "source": [
        "<a href=\"https://colab.research.google.com/github/mc40in/Smart_Grid_Tech_LABA/blob/main/Laba_1.ipynb\" target=\"_parent\"><img src=\"https://colab.research.google.com/assets/colab-badge.svg\" alt=\"Open In Colab\"/></a>"
      ]
    },
    {
      "cell_type": "markdown",
      "source": [
        "# **Розрахунок балансу електричної енергії при комбінованому живленні.**"
      ],
      "metadata": {
        "id": "nuNtjIXLJl5w"
      }
    },
    {
      "cell_type": "code",
      "source": [
        "# Блок 1: Введення даних\n",
        "import matplotlib.pyplot as plt\n",
        "import numpy as np\n",
        "\n",
        "def get_user_input():\n",
        "    print(\"Введіть параметри для аналізу даних:\")\n",
        "\n",
        "    # Споживання енергії за графіком навантаження по добі\n",
        "    print(\"Введіть споживання електричної енергії у (кВт) для кожної із 3 годин:\")\n",
        "    consumption_intervals = []\n",
        "    for i in range(8):\n",
        "        consumption_intervals.append(float(input(f\"Інтервал {i + 1} (годин {i * 3}-{(i + 1) * 3}): \")))\n",
        "\n",
        "    # Введення потужності сонячної установки\n",
        "    solar_capacity = float(input(\"Введіть номінальну потужність сонячної батареї (кВт): \"))\n",
        "\n",
        "    # Вибір пори року для генерації енергії\n",
        "    print(\"Оберіть сезон для розрахунку:\")\n",
        "    print(\"1 - Зима\")\n",
        "    print(\"2 - Весна\")\n",
        "    print(\"3 - Літо\")\n",
        "    print(\"4 - Осінь\")\n",
        "    season = int(input(\"Введіть номер необхідного сезону генерації: \"))\n",
        "\n",
        "    # Генерація енергії за умовною залежністю від пори року та потужності установки\n",
        "    if season == 1:  # Winter\n",
        "        production_intervals = [solar_capacity * f for f in [0, 0, 0, 0.2, 0.6, 0.4, 0.2, 0]]\n",
        "    elif season == 2:  # Spring\n",
        "        production_intervals = [solar_capacity * f for f in [0, 0.1, 0.3, 0.7, 0.9, 0.8, 0.5, 0.1]]\n",
        "    elif season == 3:  # Summer\n",
        "        production_intervals = [solar_capacity * f for f in [0, 0.1, 0.4, 0.8, 0.9, 0.9, 0.6, 0.1]]\n",
        "    elif season == 4:  # Autumn\n",
        "        production_intervals = [solar_capacity * f for f in [0, 0, 0.2, 0.6, 0.8, 0.7, 0.4, 0.0]]\n",
        "    else:\n",
        "        print(\"Невірно введено сезон. Встановлено сезон за замовчуванням Зима.\")\n",
        "        production_intervals = [solar_capacity * f for f in [0, 0, 0, 0.2, 0.6, 0.4, 0.2, 0]]\n",
        "\n",
        "    return {\n",
        "        'consumption_intervals': consumption_intervals,\n",
        "        'production_intervals': production_intervals,\n",
        "        'solar_capacity': solar_capacity\n",
        "    }\n",
        "\n",
        "variant = get_user_input()\n"
      ],
      "metadata": {
        "colab": {
          "base_uri": "https://localhost:8080/"
        },
        "id": "55Hq6Wz5phMr",
        "outputId": "5a99154c-6450-490f-9066-cd59357613f5"
      },
      "execution_count": null,
      "outputs": [
        {
          "name": "stdout",
          "output_type": "stream",
          "text": [
            "Введіть параметри для аналізу даних:\n",
            "Введіть споживання електричної енергії у (кВт) для кожної із 3 годин:\n",
            "Інтервал 1 (годин 0-3): 4\n",
            "Інтервал 2 (годин 3-6): 5\n",
            "Інтервал 3 (годин 6-9): 3\n",
            "Інтервал 4 (годин 9-12): 5\n",
            "Інтервал 5 (годин 12-15): 7\n",
            "Інтервал 6 (годин 15-18): 6\n",
            "Інтервал 7 (годин 18-21): 4\n",
            "Інтервал 8 (годин 21-24): 4\n",
            "Введіть номінальну потужність сонячної батареї (кВт): 12\n",
            "Оберіть сезон для розрахунку:\n",
            "1 - Зима\n",
            "2 - Весна\n",
            "3 - Літо\n",
            "4 - Осінь\n",
            "Введіть номер необхідного сезону генерації: 1\n"
          ]
        }
      ]
    },
    {
      "cell_type": "code",
      "source": [
        "# Блок 2: Розрахунки та побудова графіків\n",
        "def analyze_energy_flow(variant):\n",
        "    # Дані варіанта\n",
        "    consumption_intervals = variant['consumption_intervals']  # Споживання енергії\n",
        "    production_intervals = variant['production_intervals']  # Виробництво енергії\n",
        "\n",
        "    # Розрахунки\n",
        "    total_consumption = sum(consumption_intervals)\n",
        "    total_production = sum(production_intervals)\n",
        "    balance = total_production - total_consumption  # Баланс енергії\n",
        "\n",
        "    # Розрахунок середньої потужності\n",
        "    average_consumption_power = total_consumption / len(consumption_intervals)\n",
        "    average_production_power = total_production / len(production_intervals)\n",
        "\n",
        "    # Побудова стовпчастої діаграми\n",
        "    time_labels = [f'{i * 3}-{(i + 1) * 3} год.' for i in range(8)]\n",
        "    x = np.arange(len(time_labels))  # Позиції для стовпців\n",
        "\n",
        "    plt.figure(figsize=(10, 5))\n",
        "    plt.bar(x - 0.2, consumption_intervals, width=0.4, label='Споживання (кВт)', color='red')\n",
        "    plt.bar(x + 0.2, production_intervals, width=0.4, label='Генерація (кВт)', color='green')\n",
        "    plt.title('Добова діаграма навантаження')\n",
        "    plt.xlabel('Інтервали споживання (години)')\n",
        "    plt.ylabel('Величина енергії (кВт)')\n",
        "    plt.xticks(x, time_labels)\n",
        "    plt.legend()\n",
        "    plt.grid(axis='y', linestyle='--', alpha=0.7)\n",
        "    plt.show()\n",
        "\n",
        "    # Результати аналізу\n",
        "    return {\n",
        "        'Загальне споживання (кВт)': total_consumption,\n",
        "        'Загальна генерація (кВт)': total_production,\n",
        "        'Енергетичний баланс (кВт)': balance,\n",
        "        'Середне споживання енергії (кВт)': average_consumption_power,\n",
        "        'Середня генерація енергії (кВт)': average_production_power\n",
        "    }\n",
        "\n",
        "if variant:\n",
        "    result = analyze_energy_flow(variant)\n",
        "    print(\"\\nРезультати розрахунку:\")\n",
        "    for key, value in result.items():\n",
        "        print(f\"{key}: {value}\")\n"
      ],
      "metadata": {
        "colab": {
          "base_uri": "https://localhost:8080/",
          "height": 609
        },
        "id": "KtyTyDwfn3uS",
        "outputId": "746439c3-461b-49ce-cdaa-6f2250791b63"
      },
      "execution_count": null,
      "outputs": [
        {
          "output_type": "display_data",
          "data": {
            "text/plain": [
              "<Figure size 1000x500 with 1 Axes>"
            ],
            "image/png": "[encoded data removed]"
          },
          "metadata": {}
        },
        {
          "output_type": "stream",
          "name": "stdout",
          "text": [
            "\n",
            "Результати розрахунку:\n",
            "Загальне споживання (кВт): 38.0\n",
            "Загальна генерація (кВт): 16.8\n",
            "Енергетичний баланс (кВт): -21.2\n",
            "Середне споживання енергії (кВт): 4.75\n",
            "Середня генерація енергії (кВт): 2.1\n"
          ]
        }
      ]
    },
    {
      "cell_type": "code",
      "source": [
        "# Блок 3: Аналіз балансу енергії\n",
        "\n",
        "# Загальне споживання та генерація за добу\n",
        "total_consumption = result['Загальне споживання (кВт)']\n",
        "total_production = result['Загальна генерація (кВт)']\n",
        "\n",
        "# Розрахунок енергетичного балансу\n",
        "energy_balance = total_production - total_consumption\n",
        "\n",
        "# Визначення меж для 10% від загального споживання\n",
        "threshold = 0.1 * total_consumption\n",
        "\n",
        "# Визначення рекомендацій\n",
        "if energy_balance < -threshold:\n",
        "    # Якщо є дефіцит\n",
        "    deficit = abs(energy_balance)\n",
        "    print(\"\\nРезультати блоку 3:\")\n",
        "    print(f\"Загальне споживання: {total_consumption:.2f} кВт·год\")\n",
        "    print(f\"Загальна генерація: {total_production:.2f} кВт·год\")\n",
        "    print(f\"Дефіцит енергії: {deficit:.2f} кВт·год\")\n",
        "    print(f\"Рекомендація: Збільшити кількість сонячних панелей.\")\n",
        "elif energy_balance > threshold:\n",
        "    # Якщо є профіцит\n",
        "    surplus = energy_balance\n",
        "    print(\"\\nРезультати блоку 3:\")\n",
        "    print(f\"Загальне споживання: {total_consumption:.2f} кВт·год\")\n",
        "    print(f\"Загальна генерація: {total_production:.2f} кВт·год\")\n",
        "    print(f\"Профіцит енергії: {surplus:.2f} кВт·год\")\n",
        "    print(f\"Рекомендація: Встановити додатковий акумулятор.\")\n",
        "else:\n",
        "    # Якщо баланс у межах норми (в межах 10%)\n",
        "    print(\"\\nРезультати блоку 3:\")\n",
        "    print(f\"Загальне споживання: {total_consumption:.2f} кВт·год\")\n",
        "    print(f\"Загальна генерація: {total_production:.2f} кВт·год\")\n",
        "    print(\"Баланс системи у межах 10 %.\")\n"
      ],
      "metadata": {
        "colab": {
          "base_uri": "https://localhost:8080/"
        },
        "id": "XkdCquudz39x",
        "outputId": "c3c317f3-c105-4805-84bf-8ec4f1495bb1"
      },
      "execution_count": null,
      "outputs": [
        {
          "output_type": "stream",
          "name": "stdout",
          "text": [
            "\n",
            "Результати блоку 3:\n",
            "Загальне споживання: 38.00 кВт·год\n",
            "Загальна генерація: 16.80 кВт·год\n",
            "Дефіцит енергії: 21.20 кВт·год\n",
            "Рекомендація: Збільшити кількість сонячних панелей.\n"
          ]
        }
      ]
    },
    {
      "cell_type": "code",
      "source": [
        "# Блок 4: Економічний аналіз\n",
        "def economic_analysis(variant, result):\n",
        "    total_consumption = result['Total Consumption (kWh)']\n",
        "    total_production = result['Total Production (kWh)']\n",
        "\n",
        "    # Введення вартості енергії\n",
        "    grid_price = float(input(\"Enter the price of energy from the grid (UAH/kWh): \"))\n",
        "    solar_price = float(input(\"Enter the price of solar energy (UAH/kWh): \"))\n",
        "\n",
        "    # Розрахунок витрат\n",
        "    grid_energy = max(total_consumption - total_production, 0)  # Енергія з мережі\n",
        "    solar_energy = min(total_production, total_consumption)  # Використана сонячна енергія\n",
        "\n",
        "    grid_cost = grid_energy * grid_price\n",
        "    solar_cost = solar_energy * solar_price\n",
        "    total_cost = grid_cost + solar_cost\n",
        "\n",
        "    # Економічна ефективність\n",
        "    cost_with_grid_only = total_consumption * grid_price\n",
        "    savings = cost_with_grid_only - total_cost\n",
        "\n",
        "    print(\"\\nEconomic Analysis Results:\")\n",
        "    print(f\"Grid Energy (kWh): {grid_energy:.2f}\")\n",
        "    print(f\"Solar Energy (kWh): {solar_energy:.2f}\")\n",
        "    print(f\"Grid Cost (UAH): {grid_cost:.2f}\")\n",
        "    print(f\"Solar Cost (UAH): {solar_cost:.2f}\")\n",
        "    print(f\"Total Cost (UAH): {total_cost:.2f}\")\n",
        "    print(f\"Cost with Grid Only (UAH): {cost_with_grid_only:.2f}\")\n",
        "    print(f\"Savings (UAH): {savings:.2f}\")\n",
        "\n",
        "if variant and result:\n",
        "    economic_analysis(variant, result)"
      ],
      "metadata": {
        "colab": {
          "base_uri": "https://localhost:8080/"
        },
        "id": "1yFad1XBTtMD",
        "outputId": "8af458cc-0a2f-4b66-c1b8-86753ad714dc"
      },
      "execution_count": null,
      "outputs": [
        {
          "output_type": "stream",
          "name": "stdout",
          "text": [
            "Enter the price of energy from the grid (UAH/kWh): 3\n",
            "Enter the price of solar energy (UAH/kWh): 1\n",
            "\n",
            "Economic Analysis Results:\n",
            "Grid Energy (kWh): 3.00\n",
            "Solar Energy (kWh): 35.00\n",
            "Grid Cost (UAH): 9.00\n",
            "Solar Cost (UAH): 35.00\n",
            "Total Cost (UAH): 44.00\n",
            "Cost with Grid Only (UAH): 114.00\n",
            "Savings (UAH): 70.00\n"
          ]
        }
      ]
    }
  ]
}